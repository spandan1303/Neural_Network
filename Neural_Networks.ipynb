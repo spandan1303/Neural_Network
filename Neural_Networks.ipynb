{
 "cells": [
  {
   "cell_type": "code",
   "execution_count": 1,
   "id": "ff9b69d7-6193-4664-9988-bc2a78cb7277",
   "metadata": {},
   "outputs": [],
   "source": [
    "import numpy as np"
   ]
  },
  {
   "cell_type": "code",
   "execution_count": 2,
   "id": "847800bb-a7f8-432f-904d-085c1718615c",
   "metadata": {},
   "outputs": [],
   "source": [
    "def sigmoid(x):\n",
    "    return 1/(1+np.exp(-x))\n"
   ]
  },
  {
   "cell_type": "code",
   "execution_count": 3,
   "id": "9f5b2978-c772-45ca-8d9e-5548249c0688",
   "metadata": {},
   "outputs": [],
   "source": [
    "training_inputs=np.array([[0,0,1],\n",
    "                          [1,1,1],\n",
    "                          [1,0,1],\n",
    "                          [0,1,1]])"
   ]
  },
  {
   "cell_type": "code",
   "execution_count": 4,
   "id": "a11509df-fefb-49ec-925e-4d119ffeafbe",
   "metadata": {},
   "outputs": [],
   "source": [
    "training_outputs=np.array([[0,1,1,0]]).T"
   ]
  },
  {
   "cell_type": "code",
   "execution_count": 5,
   "id": "501c94ec-a36e-44c4-86e1-73563305276a",
   "metadata": {},
   "outputs": [],
   "source": [
    "np.random.seed(1)"
   ]
  },
  {
   "cell_type": "code",
   "execution_count": 6,
   "id": "bb4c8372-f2b0-40c1-8030-a4286f11eaee",
   "metadata": {},
   "outputs": [],
   "source": [
    "synaptic_weights=2*np.random.random((3,1))-1"
   ]
  },
  {
   "cell_type": "code",
   "execution_count": 7,
   "id": "d6edcec2-95ed-466c-8204-1f547ff1ca9c",
   "metadata": {},
   "outputs": [
    {
     "data": {
      "text/plain": [
       "array([[-0.16595599],\n",
       "       [ 0.44064899],\n",
       "       [-0.99977125]])"
      ]
     },
     "execution_count": 7,
     "metadata": {},
     "output_type": "execute_result"
    }
   ],
   "source": [
    "synaptic_weights"
   ]
  },
  {
   "cell_type": "code",
   "execution_count": 10,
   "id": "9a523fe8-effe-431d-8a16-c2401dd72c83",
   "metadata": {},
   "outputs": [
    {
     "name": "stdout",
     "output_type": "stream",
     "text": [
      "Outputs after training:\n",
      "[[0.2689864 ]\n",
      " [0.3262757 ]\n",
      " [0.23762817]\n",
      " [0.36375058]]\n"
     ]
    }
   ],
   "source": [
    "for iteration in range(1):\n",
    "    #input_layer=training_inputs\n",
    "    outputs=sigmoid(np.dot(training_inputs,synaptic_weights))\n",
    "print('Outputs after training:')\n",
    "print (outputs)"
   ]
  },
  {
   "cell_type": "code",
   "execution_count": 11,
   "id": "6a922e60-9bcf-4fa4-973c-05ef620c5215",
   "metadata": {},
   "outputs": [],
   "source": [
    "#Output is erronous"
   ]
  },
  {
   "cell_type": "code",
   "execution_count": 12,
   "id": "d6d1cb53-0fcf-4882-931a-a08780542e99",
   "metadata": {},
   "outputs": [],
   "source": [
    "# so regulisation is done\n",
    "def sigmoid_derivative(x):\n",
    "    return x*(1-x)"
   ]
  },
  {
   "cell_type": "code",
   "execution_count": 14,
   "id": "751cf653-6688-4969-bad7-aa37ed6343ed",
   "metadata": {},
   "outputs": [
    {
     "name": "stdout",
     "output_type": "stream",
     "text": [
      "Synaptic wt.s after training:\n",
      "[[ 8.72812088]\n",
      " [-0.21048991]\n",
      " [-4.15496406]]\n",
      "Output after training:\n",
      "[[0.01544608]\n",
      " [0.9874144 ]\n",
      " [0.9897789 ]\n",
      " [0.012551  ]]\n"
     ]
    }
   ],
   "source": [
    "#Updated for loop\n",
    "\n",
    "for iteration in range(2000):\n",
    "    #input_layer=training_inputs\n",
    "    outputs=sigmoid(np.dot(training_inputs,synaptic_weights))\n",
    "    error=training_outputs-outputs\n",
    "    adjustments=error*sigmoid_derivative(outputs)\n",
    "    synaptic_weights+=np.dot(input_layer.T,adjustments)\n",
    "print('Synaptic wt.s after training:')\n",
    "print (synaptic_weights)\n",
    "print('Output after training:')\n",
    "print(outputs)"
   ]
  },
  {
   "cell_type": "code",
   "execution_count": null,
   "id": "92a11cef-9b94-4333-8ee6-1f2a8eed7630",
   "metadata": {},
   "outputs": [],
   "source": []
  }
 ],
 "metadata": {
  "kernelspec": {
   "display_name": "Python 3 (ipykernel)",
   "language": "python",
   "name": "python3"
  },
  "language_info": {
   "codemirror_mode": {
    "name": "ipython",
    "version": 3
   },
   "file_extension": ".py",
   "mimetype": "text/x-python",
   "name": "python",
   "nbconvert_exporter": "python",
   "pygments_lexer": "ipython3",
   "version": "3.11.1"
  }
 },
 "nbformat": 4,
 "nbformat_minor": 5
}
